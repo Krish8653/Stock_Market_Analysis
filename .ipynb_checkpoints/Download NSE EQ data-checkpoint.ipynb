{
 "cells": [
  {
   "cell_type": "code",
   "execution_count": 7,
   "id": "12d2e088",
   "metadata": {},
   "outputs": [],
   "source": [
    "# symbol = \"TATAMOTORS\"\n",
    "# series = \"EQ\"\n",
    "# start_date = \"05-02-2024\"\n",
    "# end_date =\"15-03-2024\"\n",
    "# df = equity_history(symbol,series,start_date,end_date)"
   ]
  },
  {
   "cell_type": "code",
   "execution_count": 8,
   "id": "f5aaf6e2",
   "metadata": {},
   "outputs": [],
   "source": [
    "# importing necessary libraries\n",
    "# pandas for etl, openpyxl for excel export, nsepython for data fetch from NSE\n",
    "import pandas as pd\n",
    "import openpyxl\n",
    "from datetime import date\n",
    "from nsepython import *\n",
    "from bs4 import BeautifulSoup"
   ]
  },
  {
   "cell_type": "code",
   "execution_count": 9,
   "id": "52ac08d8",
   "metadata": {},
   "outputs": [],
   "source": [
    "# get_bhavcopy is the function to fetch delivery and total quantity\n",
    "# https://unofficed.com/nse-python/documentation/nsepy/ ------official documentation\n",
    "end_date = (date.today() + datetime.timedelta(days=-1)).strftime('%d-%m-%Y')\n",
    "\n",
    "bhav_df = get_bhavcopy(end_date)\n",
    "bhav_df = bhav_df.rename(columns=lambda x: x.strip())\n",
    "bhav_df['SERIES'] = bhav_df['SERIES'].str.strip()\n",
    "bhav_df = bhav_df[bhav_df['SERIES'] == 'EQ'] #filtering for 'EQ' as other serieses also coming"
   ]
  },
  {
   "cell_type": "code",
   "execution_count": 10,
   "id": "e7acafce",
   "metadata": {
    "scrolled": false
   },
   "outputs": [
    {
     "data": {
      "text/html": [
       "<div>\n",
       "<style scoped>\n",
       "    .dataframe tbody tr th:only-of-type {\n",
       "        vertical-align: middle;\n",
       "    }\n",
       "\n",
       "    .dataframe tbody tr th {\n",
       "        vertical-align: top;\n",
       "    }\n",
       "\n",
       "    .dataframe thead th {\n",
       "        text-align: right;\n",
       "    }\n",
       "</style>\n",
       "<table border=\"1\" class=\"dataframe\">\n",
       "  <thead>\n",
       "    <tr style=\"text-align: right;\">\n",
       "      <th></th>\n",
       "      <th>SR. NO.</th>\n",
       "      <th>SYMBOL</th>\n",
       "      <th>UNDERLYING</th>\n",
       "    </tr>\n",
       "  </thead>\n",
       "  <tbody>\n",
       "    <tr>\n",
       "      <th>0</th>\n",
       "      <td>1</td>\n",
       "      <td>20MICRONS</td>\n",
       "      <td>20 Microns Limited</td>\n",
       "    </tr>\n",
       "    <tr>\n",
       "      <th>1</th>\n",
       "      <td>2</td>\n",
       "      <td>360ONE</td>\n",
       "      <td>360 ONE WAM LIMITED</td>\n",
       "    </tr>\n",
       "    <tr>\n",
       "      <th>2</th>\n",
       "      <td>3</td>\n",
       "      <td>3IINFOLTD</td>\n",
       "      <td>3i Infotech Limited</td>\n",
       "    </tr>\n",
       "    <tr>\n",
       "      <th>3</th>\n",
       "      <td>4</td>\n",
       "      <td>3MINDIA</td>\n",
       "      <td>3M India Limited</td>\n",
       "    </tr>\n",
       "    <tr>\n",
       "      <th>4</th>\n",
       "      <td>5</td>\n",
       "      <td>5PAISA</td>\n",
       "      <td>5Paisa Capital Limited</td>\n",
       "    </tr>\n",
       "    <tr>\n",
       "      <th>...</th>\n",
       "      <td>...</td>\n",
       "      <td>...</td>\n",
       "      <td>...</td>\n",
       "    </tr>\n",
       "    <tr>\n",
       "      <th>1597</th>\n",
       "      <td>1598</td>\n",
       "      <td>ZOTA</td>\n",
       "      <td>Zota Health Care LImited</td>\n",
       "    </tr>\n",
       "    <tr>\n",
       "      <th>1598</th>\n",
       "      <td>1599</td>\n",
       "      <td>ZUARI</td>\n",
       "      <td>Zuari Agro Chemicals Limited</td>\n",
       "    </tr>\n",
       "    <tr>\n",
       "      <th>1599</th>\n",
       "      <td>1600</td>\n",
       "      <td>ZUARIIND</td>\n",
       "      <td>ZUARI INDUSTRIES LIMITED</td>\n",
       "    </tr>\n",
       "    <tr>\n",
       "      <th>1600</th>\n",
       "      <td>1601</td>\n",
       "      <td>ZYDUSLIFE</td>\n",
       "      <td>Zydus Lifesciences Limited</td>\n",
       "    </tr>\n",
       "    <tr>\n",
       "      <th>1601</th>\n",
       "      <td>1602</td>\n",
       "      <td>ZYDUSWELL</td>\n",
       "      <td>Zydus Wellness Limited</td>\n",
       "    </tr>\n",
       "  </tbody>\n",
       "</table>\n",
       "<p>1602 rows × 3 columns</p>\n",
       "</div>"
      ],
      "text/plain": [
       "      SR. NO.     SYMBOL                    UNDERLYING\n",
       "0           1  20MICRONS            20 Microns Limited\n",
       "1           2     360ONE           360 ONE WAM LIMITED\n",
       "2           3  3IINFOLTD           3i Infotech Limited\n",
       "3           4    3MINDIA              3M India Limited\n",
       "4           5     5PAISA        5Paisa Capital Limited\n",
       "...       ...        ...                           ...\n",
       "1597     1598       ZOTA      Zota Health Care LImited\n",
       "1598     1599      ZUARI  Zuari Agro Chemicals Limited\n",
       "1599     1600   ZUARIIND      ZUARI INDUSTRIES LIMITED\n",
       "1600     1601  ZYDUSLIFE    Zydus Lifesciences Limited\n",
       "1601     1602  ZYDUSWELL        Zydus Wellness Limited\n",
       "\n",
       "[1602 rows x 3 columns]"
      ]
     },
     "execution_count": 10,
     "metadata": {},
     "output_type": "execute_result"
    }
   ],
   "source": [
    "# master data for getting full name per symbol\n",
    "symbol_master = pd.read_excel('Stock_Symbol_Master_Data.xlsx')\n",
    "symbol_master"
   ]
  },
  {
   "cell_type": "code",
   "execution_count": 11,
   "id": "df7a652b",
   "metadata": {},
   "outputs": [],
   "source": [
    "combined_df = bhav_df.merge(symbol_master, left_on = 'SYMBOL', right_on = 'SYMBOL', how = 'inner')"
   ]
  },
  {
   "cell_type": "code",
   "execution_count": 12,
   "id": "0832f8b5",
   "metadata": {},
   "outputs": [
    {
     "name": "stderr",
     "output_type": "stream",
     "text": [
      "C:\\Users\\krish\\AppData\\Local\\Temp\\ipykernel_20976\\604178954.py:2: SettingWithCopyWarning: \n",
      "A value is trying to be set on a copy of a slice from a DataFrame.\n",
      "Try using .loc[row_indexer,col_indexer] = value instead\n",
      "\n",
      "See the caveats in the documentation: https://pandas.pydata.org/pandas-docs/stable/user_guide/indexing.html#returning-a-view-versus-a-copy\n",
      "  final_df[[\"DELIV_QTY\", \"DELIV_PER\"]] = final_df[[\"DELIV_QTY\", \"DELIV_PER\"]].apply(pd.to_numeric)\n",
      "C:\\Users\\krish\\AppData\\Local\\Temp\\ipykernel_20976\\604178954.py:3: SettingWithCopyWarning: \n",
      "A value is trying to be set on a copy of a slice from a DataFrame\n",
      "\n",
      "See the caveats in the documentation: https://pandas.pydata.org/pandas-docs/stable/user_guide/indexing.html#returning-a-view-versus-a-copy\n",
      "  final_df.rename(columns={'DATE1': 'DATE', 'UNDERLYING': 'FULL_NAME', 'TTL_TRD_QNTY': 'TOTAL_TRADE_QTY', 'DELIV_QTY': 'DELIVERY_QTY', 'DELIV_PER': 'DELIVERY_PERC'}, inplace=True)\n"
     ]
    }
   ],
   "source": [
    "final_df = combined_df[['DATE1','SYMBOL','UNDERLYING','TTL_TRD_QNTY','NO_OF_TRADES','DELIV_QTY','DELIV_PER']]\n",
    "final_df[[\"DELIV_QTY\", \"DELIV_PER\"]] = final_df[[\"DELIV_QTY\", \"DELIV_PER\"]].apply(pd.to_numeric)\n",
    "final_df.rename(columns={'DATE1': 'DATE', 'UNDERLYING': 'FULL_NAME', 'TTL_TRD_QNTY': 'TOTAL_TRADE_QTY', 'DELIV_QTY': 'DELIVERY_QTY', 'DELIV_PER': 'DELIVERY_PERC'}, inplace=True)"
   ]
  },
  {
   "cell_type": "code",
   "execution_count": 13,
   "id": "ab8ec497",
   "metadata": {},
   "outputs": [
    {
     "name": "stdout",
     "output_type": "stream",
     "text": [
      "DataFrame is written to Excel File successfully.\n"
     ]
    }
   ],
   "source": [
    "file_name = 'StockMarketData.xlsx'\n",
    "final_df.to_excel(file_name)\n",
    "print('DataFrame is written to Excel File successfully.')"
   ]
  }
 ],
 "metadata": {
  "kernelspec": {
   "display_name": "Python 3 (ipykernel)",
   "language": "python",
   "name": "python3"
  },
  "language_info": {
   "codemirror_mode": {
    "name": "ipython",
    "version": 3
   },
   "file_extension": ".py",
   "mimetype": "text/x-python",
   "name": "python",
   "nbconvert_exporter": "python",
   "pygments_lexer": "ipython3",
   "version": "3.11.3"
  }
 },
 "nbformat": 4,
 "nbformat_minor": 5
}
